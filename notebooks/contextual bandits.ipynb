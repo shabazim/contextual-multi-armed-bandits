{
 "cells": [
  {
   "cell_type": "code",
   "execution_count": 471,
   "metadata": {},
   "outputs": [],
   "source": [
    "import numpy as np\n",
    "import random"
   ]
  },
  {
   "cell_type": "code",
   "execution_count": 472,
   "metadata": {},
   "outputs": [],
   "source": [
    "import pandas as pd"
   ]
  },
  {
   "cell_type": "code",
   "execution_count": 473,
   "metadata": {},
   "outputs": [],
   "source": [
    "n =10000"
   ]
  },
  {
   "cell_type": "code",
   "execution_count": 474,
   "metadata": {},
   "outputs": [],
   "source": [
    "random.seed(7)"
   ]
  },
  {
   "cell_type": "code",
   "execution_count": 475,
   "metadata": {},
   "outputs": [],
   "source": [
    "bandit_data = pd.DataFrame()"
   ]
  },
  {
   "cell_type": "code",
   "execution_count": 476,
   "metadata": {},
   "outputs": [
    {
     "data": {
      "text/plain": [
       "array([1, 0, 1, 0, 1, 1, 0, 0, 1, 1], dtype=int64)"
      ]
     },
     "execution_count": 476,
     "metadata": {},
     "output_type": "execute_result"
    }
   ],
   "source": [
    "np.random.choice(2, 10, p=[0.6,0.4])"
   ]
  },
  {
   "cell_type": "code",
   "execution_count": 477,
   "metadata": {},
   "outputs": [],
   "source": [
    "bandit_data['clicked_sports'] = np.random.choice(2, n, p=[0.6,0.4])"
   ]
  },
  {
   "cell_type": "code",
   "execution_count": 478,
   "metadata": {},
   "outputs": [],
   "source": [
    "bandit_data['clicked_politics'] = np.random.choice(2, n, p=[0.7,0.3])"
   ]
  },
  {
   "cell_type": "code",
   "execution_count": 479,
   "metadata": {},
   "outputs": [],
   "source": [
    "bandit_data['arm'] = np.random.choice(np.arange(0,3), n)"
   ]
  },
  {
   "cell_type": "code",
   "execution_count": 480,
   "metadata": {},
   "outputs": [],
   "source": [
    "sp_map = {0:0.5,1:0.1,2:0.1}\n",
    "p_map = {0:0.1,1:0.1,2:0.4}\n",
    "b_map = {0:0.1,1:0.2,2:0.1}"
   ]
  },
  {
   "cell_type": "code",
   "execution_count": 481,
   "metadata": {},
   "outputs": [],
   "source": [
    "bandit_data['sports_coef'] = bandit_data['arm'].map(sp_map)\n",
    "bandit_data['politics_coef'] = bandit_data['arm'].map(p_map)\n",
    "bandit_data['arm_baseline'] = bandit_data['arm'].map(b_map)"
   ]
  },
  {
   "cell_type": "code",
   "execution_count": 482,
   "metadata": {},
   "outputs": [
    {
     "data": {
      "text/html": [
       "<div>\n",
       "<style scoped>\n",
       "    .dataframe tbody tr th:only-of-type {\n",
       "        vertical-align: middle;\n",
       "    }\n",
       "\n",
       "    .dataframe tbody tr th {\n",
       "        vertical-align: top;\n",
       "    }\n",
       "\n",
       "    .dataframe thead th {\n",
       "        text-align: right;\n",
       "    }\n",
       "</style>\n",
       "<table border=\"1\" class=\"dataframe\">\n",
       "  <thead>\n",
       "    <tr style=\"text-align: right;\">\n",
       "      <th></th>\n",
       "      <th>clicked_sports</th>\n",
       "      <th>clicked_politics</th>\n",
       "      <th>arm</th>\n",
       "      <th>sports_coef</th>\n",
       "      <th>politics_coef</th>\n",
       "      <th>arm_baseline</th>\n",
       "    </tr>\n",
       "  </thead>\n",
       "  <tbody>\n",
       "    <tr>\n",
       "      <th>0</th>\n",
       "      <td>1</td>\n",
       "      <td>1</td>\n",
       "      <td>0</td>\n",
       "      <td>0.5</td>\n",
       "      <td>0.1</td>\n",
       "      <td>0.1</td>\n",
       "    </tr>\n",
       "    <tr>\n",
       "      <th>1</th>\n",
       "      <td>1</td>\n",
       "      <td>0</td>\n",
       "      <td>1</td>\n",
       "      <td>0.1</td>\n",
       "      <td>0.1</td>\n",
       "      <td>0.2</td>\n",
       "    </tr>\n",
       "    <tr>\n",
       "      <th>2</th>\n",
       "      <td>1</td>\n",
       "      <td>1</td>\n",
       "      <td>1</td>\n",
       "      <td>0.1</td>\n",
       "      <td>0.1</td>\n",
       "      <td>0.2</td>\n",
       "    </tr>\n",
       "    <tr>\n",
       "      <th>3</th>\n",
       "      <td>0</td>\n",
       "      <td>0</td>\n",
       "      <td>2</td>\n",
       "      <td>0.1</td>\n",
       "      <td>0.4</td>\n",
       "      <td>0.1</td>\n",
       "    </tr>\n",
       "    <tr>\n",
       "      <th>4</th>\n",
       "      <td>0</td>\n",
       "      <td>1</td>\n",
       "      <td>2</td>\n",
       "      <td>0.1</td>\n",
       "      <td>0.4</td>\n",
       "      <td>0.1</td>\n",
       "    </tr>\n",
       "  </tbody>\n",
       "</table>\n",
       "</div>"
      ],
      "text/plain": [
       "   clicked_sports  clicked_politics  arm  sports_coef  politics_coef  \\\n",
       "0               1                 1    0          0.5            0.1   \n",
       "1               1                 0    1          0.1            0.1   \n",
       "2               1                 1    1          0.1            0.1   \n",
       "3               0                 0    2          0.1            0.4   \n",
       "4               0                 1    2          0.1            0.4   \n",
       "\n",
       "   arm_baseline  \n",
       "0           0.1  \n",
       "1           0.2  \n",
       "2           0.2  \n",
       "3           0.1  \n",
       "4           0.1  "
      ]
     },
     "execution_count": 482,
     "metadata": {},
     "output_type": "execute_result"
    }
   ],
   "source": [
    "bandit_data.head()"
   ]
  },
  {
   "cell_type": "code",
   "execution_count": 483,
   "metadata": {},
   "outputs": [],
   "source": [
    "#bandit_data['rand_draw'] = np.random.uniform(low=0.0, high=1.0, size=n)"
   ]
  },
  {
   "cell_type": "code",
   "execution_count": 484,
   "metadata": {},
   "outputs": [],
   "source": [
    "bandit_data['base'] = 1"
   ]
  },
  {
   "cell_type": "code",
   "execution_count": 485,
   "metadata": {},
   "outputs": [
    {
     "data": {
      "text/html": [
       "<div>\n",
       "<style scoped>\n",
       "    .dataframe tbody tr th:only-of-type {\n",
       "        vertical-align: middle;\n",
       "    }\n",
       "\n",
       "    .dataframe tbody tr th {\n",
       "        vertical-align: top;\n",
       "    }\n",
       "\n",
       "    .dataframe thead th {\n",
       "        text-align: right;\n",
       "    }\n",
       "</style>\n",
       "<table border=\"1\" class=\"dataframe\">\n",
       "  <thead>\n",
       "    <tr style=\"text-align: right;\">\n",
       "      <th></th>\n",
       "      <th>clicked_sports</th>\n",
       "      <th>clicked_politics</th>\n",
       "      <th>arm</th>\n",
       "      <th>sports_coef</th>\n",
       "      <th>politics_coef</th>\n",
       "      <th>arm_baseline</th>\n",
       "      <th>base</th>\n",
       "    </tr>\n",
       "  </thead>\n",
       "  <tbody>\n",
       "    <tr>\n",
       "      <th>0</th>\n",
       "      <td>1</td>\n",
       "      <td>1</td>\n",
       "      <td>0</td>\n",
       "      <td>0.5</td>\n",
       "      <td>0.1</td>\n",
       "      <td>0.1</td>\n",
       "      <td>1</td>\n",
       "    </tr>\n",
       "    <tr>\n",
       "      <th>1</th>\n",
       "      <td>1</td>\n",
       "      <td>0</td>\n",
       "      <td>1</td>\n",
       "      <td>0.1</td>\n",
       "      <td>0.1</td>\n",
       "      <td>0.2</td>\n",
       "      <td>1</td>\n",
       "    </tr>\n",
       "    <tr>\n",
       "      <th>2</th>\n",
       "      <td>1</td>\n",
       "      <td>1</td>\n",
       "      <td>1</td>\n",
       "      <td>0.1</td>\n",
       "      <td>0.1</td>\n",
       "      <td>0.2</td>\n",
       "      <td>1</td>\n",
       "    </tr>\n",
       "    <tr>\n",
       "      <th>3</th>\n",
       "      <td>0</td>\n",
       "      <td>0</td>\n",
       "      <td>2</td>\n",
       "      <td>0.1</td>\n",
       "      <td>0.4</td>\n",
       "      <td>0.1</td>\n",
       "      <td>1</td>\n",
       "    </tr>\n",
       "    <tr>\n",
       "      <th>4</th>\n",
       "      <td>0</td>\n",
       "      <td>1</td>\n",
       "      <td>2</td>\n",
       "      <td>0.1</td>\n",
       "      <td>0.4</td>\n",
       "      <td>0.1</td>\n",
       "      <td>1</td>\n",
       "    </tr>\n",
       "  </tbody>\n",
       "</table>\n",
       "</div>"
      ],
      "text/plain": [
       "   clicked_sports  clicked_politics  arm  sports_coef  politics_coef  \\\n",
       "0               1                 1    0          0.5            0.1   \n",
       "1               1                 0    1          0.1            0.1   \n",
       "2               1                 1    1          0.1            0.1   \n",
       "3               0                 0    2          0.1            0.4   \n",
       "4               0                 1    2          0.1            0.4   \n",
       "\n",
       "   arm_baseline  base  \n",
       "0           0.1     1  \n",
       "1           0.2     1  \n",
       "2           0.2     1  \n",
       "3           0.1     1  \n",
       "4           0.1     1  "
      ]
     },
     "execution_count": 485,
     "metadata": {},
     "output_type": "execute_result"
    }
   ],
   "source": [
    "bandit_data.head()"
   ]
  },
  {
   "cell_type": "markdown",
   "metadata": {},
   "source": []
  },
  {
   "cell_type": "code",
   "execution_count": 486,
   "metadata": {},
   "outputs": [],
   "source": [
    "bandit_data['click_factor'] =  bandit_data.base * bandit_data.arm_baseline + bandit_data.sports_coef * bandit_data.clicked_sports + bandit_data.politics_coef * bandit_data.clicked_politics"
   ]
  },
  {
   "cell_type": "code",
   "execution_count": 487,
   "metadata": {},
   "outputs": [
    {
     "data": {
      "text/html": [
       "<div>\n",
       "<style scoped>\n",
       "    .dataframe tbody tr th:only-of-type {\n",
       "        vertical-align: middle;\n",
       "    }\n",
       "\n",
       "    .dataframe tbody tr th {\n",
       "        vertical-align: top;\n",
       "    }\n",
       "\n",
       "    .dataframe thead th {\n",
       "        text-align: right;\n",
       "    }\n",
       "</style>\n",
       "<table border=\"1\" class=\"dataframe\">\n",
       "  <thead>\n",
       "    <tr style=\"text-align: right;\">\n",
       "      <th></th>\n",
       "      <th>clicked_sports</th>\n",
       "      <th>clicked_politics</th>\n",
       "      <th>arm</th>\n",
       "      <th>sports_coef</th>\n",
       "      <th>politics_coef</th>\n",
       "      <th>arm_baseline</th>\n",
       "      <th>base</th>\n",
       "      <th>click_factor</th>\n",
       "    </tr>\n",
       "  </thead>\n",
       "  <tbody>\n",
       "    <tr>\n",
       "      <th>0</th>\n",
       "      <td>1</td>\n",
       "      <td>1</td>\n",
       "      <td>0</td>\n",
       "      <td>0.5</td>\n",
       "      <td>0.1</td>\n",
       "      <td>0.1</td>\n",
       "      <td>1</td>\n",
       "      <td>0.7</td>\n",
       "    </tr>\n",
       "    <tr>\n",
       "      <th>1</th>\n",
       "      <td>1</td>\n",
       "      <td>0</td>\n",
       "      <td>1</td>\n",
       "      <td>0.1</td>\n",
       "      <td>0.1</td>\n",
       "      <td>0.2</td>\n",
       "      <td>1</td>\n",
       "      <td>0.3</td>\n",
       "    </tr>\n",
       "  </tbody>\n",
       "</table>\n",
       "</div>"
      ],
      "text/plain": [
       "   clicked_sports  clicked_politics  arm  sports_coef  politics_coef  \\\n",
       "0               1                 1    0          0.5            0.1   \n",
       "1               1                 0    1          0.1            0.1   \n",
       "\n",
       "   arm_baseline  base  click_factor  \n",
       "0           0.1     1           0.7  \n",
       "1           0.2     1           0.3  "
      ]
     },
     "execution_count": 487,
     "metadata": {},
     "output_type": "execute_result"
    }
   ],
   "source": [
    "bandit_data.head(2)"
   ]
  },
  {
   "cell_type": "code",
   "execution_count": 488,
   "metadata": {},
   "outputs": [],
   "source": [
    "#bandit_data['click'] = np.where(bandit_data['click_factor']>=bandit_data['rand_draw'], 1, 0)"
   ]
  },
  {
   "cell_type": "code",
   "execution_count": 489,
   "metadata": {},
   "outputs": [],
   "source": [
    "bandit_data['click'] = np.random.binomial(1, bandit_data['click_factor'])"
   ]
  },
  {
   "cell_type": "code",
   "execution_count": 490,
   "metadata": {},
   "outputs": [
    {
     "data": {
      "text/html": [
       "<div>\n",
       "<style scoped>\n",
       "    .dataframe tbody tr th:only-of-type {\n",
       "        vertical-align: middle;\n",
       "    }\n",
       "\n",
       "    .dataframe tbody tr th {\n",
       "        vertical-align: top;\n",
       "    }\n",
       "\n",
       "    .dataframe thead th {\n",
       "        text-align: right;\n",
       "    }\n",
       "</style>\n",
       "<table border=\"1\" class=\"dataframe\">\n",
       "  <thead>\n",
       "    <tr style=\"text-align: right;\">\n",
       "      <th></th>\n",
       "      <th>clicked_sports</th>\n",
       "      <th>clicked_politics</th>\n",
       "      <th>arm</th>\n",
       "      <th>sports_coef</th>\n",
       "      <th>politics_coef</th>\n",
       "      <th>arm_baseline</th>\n",
       "      <th>base</th>\n",
       "      <th>click_factor</th>\n",
       "      <th>click</th>\n",
       "    </tr>\n",
       "  </thead>\n",
       "  <tbody>\n",
       "    <tr>\n",
       "      <th>0</th>\n",
       "      <td>1</td>\n",
       "      <td>1</td>\n",
       "      <td>0</td>\n",
       "      <td>0.5</td>\n",
       "      <td>0.1</td>\n",
       "      <td>0.1</td>\n",
       "      <td>1</td>\n",
       "      <td>0.7</td>\n",
       "      <td>1</td>\n",
       "    </tr>\n",
       "    <tr>\n",
       "      <th>1</th>\n",
       "      <td>1</td>\n",
       "      <td>0</td>\n",
       "      <td>1</td>\n",
       "      <td>0.1</td>\n",
       "      <td>0.1</td>\n",
       "      <td>0.2</td>\n",
       "      <td>1</td>\n",
       "      <td>0.3</td>\n",
       "      <td>0</td>\n",
       "    </tr>\n",
       "    <tr>\n",
       "      <th>2</th>\n",
       "      <td>1</td>\n",
       "      <td>1</td>\n",
       "      <td>1</td>\n",
       "      <td>0.1</td>\n",
       "      <td>0.1</td>\n",
       "      <td>0.2</td>\n",
       "      <td>1</td>\n",
       "      <td>0.4</td>\n",
       "      <td>0</td>\n",
       "    </tr>\n",
       "    <tr>\n",
       "      <th>3</th>\n",
       "      <td>0</td>\n",
       "      <td>0</td>\n",
       "      <td>2</td>\n",
       "      <td>0.1</td>\n",
       "      <td>0.4</td>\n",
       "      <td>0.1</td>\n",
       "      <td>1</td>\n",
       "      <td>0.1</td>\n",
       "      <td>0</td>\n",
       "    </tr>\n",
       "    <tr>\n",
       "      <th>4</th>\n",
       "      <td>0</td>\n",
       "      <td>1</td>\n",
       "      <td>2</td>\n",
       "      <td>0.1</td>\n",
       "      <td>0.4</td>\n",
       "      <td>0.1</td>\n",
       "      <td>1</td>\n",
       "      <td>0.5</td>\n",
       "      <td>0</td>\n",
       "    </tr>\n",
       "  </tbody>\n",
       "</table>\n",
       "</div>"
      ],
      "text/plain": [
       "   clicked_sports  clicked_politics  arm  sports_coef  politics_coef  \\\n",
       "0               1                 1    0          0.5            0.1   \n",
       "1               1                 0    1          0.1            0.1   \n",
       "2               1                 1    1          0.1            0.1   \n",
       "3               0                 0    2          0.1            0.4   \n",
       "4               0                 1    2          0.1            0.4   \n",
       "\n",
       "   arm_baseline  base  click_factor  click  \n",
       "0           0.1     1           0.7      1  \n",
       "1           0.2     1           0.3      0  \n",
       "2           0.2     1           0.4      0  \n",
       "3           0.1     1           0.1      0  \n",
       "4           0.1     1           0.5      0  "
      ]
     },
     "execution_count": 490,
     "metadata": {},
     "output_type": "execute_result"
    }
   ],
   "source": [
    "bandit_data.head()"
   ]
  },
  {
   "cell_type": "code",
   "execution_count": 491,
   "metadata": {},
   "outputs": [
    {
     "data": {
      "text/plain": [
       "arm  clicked_sports  clicked_politics\n",
       "0    0               0                   137\n",
       "                     1                   120\n",
       "     1               0                   520\n",
       "                     1                   276\n",
       "1    0               0                   262\n",
       "                     1                   166\n",
       "     1               0                   287\n",
       "                     1                   163\n",
       "2    0               0                   139\n",
       "                     1                   292\n",
       "     1               0                   179\n",
       "                     1                   215\n",
       "Name: click, dtype: int32"
      ]
     },
     "execution_count": 491,
     "metadata": {},
     "output_type": "execute_result"
    }
   ],
   "source": [
    "bandit_data.groupby(['arm', 'clicked_sports', 'clicked_politics'])['click'].sum()"
   ]
  },
  {
   "cell_type": "code",
   "execution_count": 492,
   "metadata": {},
   "outputs": [
    {
     "data": {
      "text/plain": [
       "arm  clicked_sports  clicked_politics\n",
       "0    0               0                   0.097232\n",
       "                     1                   0.208696\n",
       "     1               0                   0.573951\n",
       "                     1                   0.707692\n",
       "1    0               0                   0.182833\n",
       "                     1                   0.279461\n",
       "     1               0                   0.312977\n",
       "                     1                   0.390887\n",
       "2    0               0                   0.098025\n",
       "                     1                   0.471729\n",
       "     1               0                   0.190223\n",
       "                     1                   0.564304\n",
       "Name: click, dtype: float64"
      ]
     },
     "execution_count": 492,
     "metadata": {},
     "output_type": "execute_result"
    }
   ],
   "source": [
    "bandit_data.groupby(['arm', 'clicked_sports', 'clicked_politics'])['click'].mean()"
   ]
  },
  {
   "cell_type": "code",
   "execution_count": 493,
   "metadata": {},
   "outputs": [
    {
     "data": {
      "text/plain": [
       "arm  clicked_sports  clicked_politics\n",
       "0    0               0                   1409\n",
       "                     1                    575\n",
       "     1               0                    906\n",
       "                     1                    390\n",
       "1    0               0                   1433\n",
       "                     1                    594\n",
       "     1               0                    917\n",
       "                     1                    417\n",
       "2    0               0                   1418\n",
       "                     1                    619\n",
       "     1               0                    941\n",
       "                     1                    381\n",
       "Name: click, dtype: int64"
      ]
     },
     "execution_count": 493,
     "metadata": {},
     "output_type": "execute_result"
    }
   ],
   "source": [
    "bandit_data.groupby(['arm', 'clicked_sports', 'clicked_politics'])['click'].count()"
   ]
  },
  {
   "cell_type": "code",
   "execution_count": 494,
   "metadata": {},
   "outputs": [
    {
     "data": {
      "text/html": [
       "<div>\n",
       "<style scoped>\n",
       "    .dataframe tbody tr th:only-of-type {\n",
       "        vertical-align: middle;\n",
       "    }\n",
       "\n",
       "    .dataframe tbody tr th {\n",
       "        vertical-align: top;\n",
       "    }\n",
       "\n",
       "    .dataframe thead th {\n",
       "        text-align: right;\n",
       "    }\n",
       "</style>\n",
       "<table border=\"1\" class=\"dataframe\">\n",
       "  <thead>\n",
       "    <tr style=\"text-align: right;\">\n",
       "      <th></th>\n",
       "      <th></th>\n",
       "      <th></th>\n",
       "      <th>sum</th>\n",
       "      <th>count</th>\n",
       "      <th>mean</th>\n",
       "    </tr>\n",
       "    <tr>\n",
       "      <th>arm</th>\n",
       "      <th>clicked_sports</th>\n",
       "      <th>clicked_politics</th>\n",
       "      <th></th>\n",
       "      <th></th>\n",
       "      <th></th>\n",
       "    </tr>\n",
       "  </thead>\n",
       "  <tbody>\n",
       "    <tr>\n",
       "      <th rowspan=\"4\" valign=\"top\">0</th>\n",
       "      <th rowspan=\"2\" valign=\"top\">0</th>\n",
       "      <th>0</th>\n",
       "      <td>137</td>\n",
       "      <td>1409</td>\n",
       "      <td>0.097232</td>\n",
       "    </tr>\n",
       "    <tr>\n",
       "      <th>1</th>\n",
       "      <td>120</td>\n",
       "      <td>575</td>\n",
       "      <td>0.208696</td>\n",
       "    </tr>\n",
       "    <tr>\n",
       "      <th rowspan=\"2\" valign=\"top\">1</th>\n",
       "      <th>0</th>\n",
       "      <td>520</td>\n",
       "      <td>906</td>\n",
       "      <td>0.573951</td>\n",
       "    </tr>\n",
       "    <tr>\n",
       "      <th>1</th>\n",
       "      <td>276</td>\n",
       "      <td>390</td>\n",
       "      <td>0.707692</td>\n",
       "    </tr>\n",
       "    <tr>\n",
       "      <th rowspan=\"4\" valign=\"top\">1</th>\n",
       "      <th rowspan=\"2\" valign=\"top\">0</th>\n",
       "      <th>0</th>\n",
       "      <td>262</td>\n",
       "      <td>1433</td>\n",
       "      <td>0.182833</td>\n",
       "    </tr>\n",
       "    <tr>\n",
       "      <th>1</th>\n",
       "      <td>166</td>\n",
       "      <td>594</td>\n",
       "      <td>0.279461</td>\n",
       "    </tr>\n",
       "    <tr>\n",
       "      <th rowspan=\"2\" valign=\"top\">1</th>\n",
       "      <th>0</th>\n",
       "      <td>287</td>\n",
       "      <td>917</td>\n",
       "      <td>0.312977</td>\n",
       "    </tr>\n",
       "    <tr>\n",
       "      <th>1</th>\n",
       "      <td>163</td>\n",
       "      <td>417</td>\n",
       "      <td>0.390887</td>\n",
       "    </tr>\n",
       "    <tr>\n",
       "      <th rowspan=\"4\" valign=\"top\">2</th>\n",
       "      <th rowspan=\"2\" valign=\"top\">0</th>\n",
       "      <th>0</th>\n",
       "      <td>139</td>\n",
       "      <td>1418</td>\n",
       "      <td>0.098025</td>\n",
       "    </tr>\n",
       "    <tr>\n",
       "      <th>1</th>\n",
       "      <td>292</td>\n",
       "      <td>619</td>\n",
       "      <td>0.471729</td>\n",
       "    </tr>\n",
       "    <tr>\n",
       "      <th rowspan=\"2\" valign=\"top\">1</th>\n",
       "      <th>0</th>\n",
       "      <td>179</td>\n",
       "      <td>941</td>\n",
       "      <td>0.190223</td>\n",
       "    </tr>\n",
       "    <tr>\n",
       "      <th>1</th>\n",
       "      <td>215</td>\n",
       "      <td>381</td>\n",
       "      <td>0.564304</td>\n",
       "    </tr>\n",
       "  </tbody>\n",
       "</table>\n",
       "</div>"
      ],
      "text/plain": [
       "                                     sum  count      mean\n",
       "arm clicked_sports clicked_politics                      \n",
       "0   0              0                 137   1409  0.097232\n",
       "                   1                 120    575  0.208696\n",
       "    1              0                 520    906  0.573951\n",
       "                   1                 276    390  0.707692\n",
       "1   0              0                 262   1433  0.182833\n",
       "                   1                 166    594  0.279461\n",
       "    1              0                 287    917  0.312977\n",
       "                   1                 163    417  0.390887\n",
       "2   0              0                 139   1418  0.098025\n",
       "                   1                 292    619  0.471729\n",
       "    1              0                 179    941  0.190223\n",
       "                   1                 215    381  0.564304"
      ]
     },
     "execution_count": 494,
     "metadata": {},
     "output_type": "execute_result"
    }
   ],
   "source": [
    "bandit_data.groupby(['arm', 'clicked_sports', 'clicked_politics']).click.agg(['sum','count','mean'])"
   ]
  },
  {
   "cell_type": "code",
   "execution_count": 495,
   "metadata": {},
   "outputs": [
    {
     "data": {
      "text/plain": [
       "clicked_sports  clicked_politics\n",
       "0               0                   0.182833\n",
       "                1                   0.471729\n",
       "1               0                   0.573951\n",
       "                1                   0.707692\n",
       "Name: mean, dtype: float64"
      ]
     },
     "execution_count": 495,
     "metadata": {},
     "output_type": "execute_result"
    }
   ],
   "source": [
    "bandit_data.groupby(['arm', 'clicked_sports', 'clicked_politics']).click.agg(['sum','count','mean']).groupby(['clicked_sports', 'clicked_politics'])['mean'].max()"
   ]
  },
  {
   "cell_type": "markdown",
   "metadata": {},
   "source": [
    "*arm 1 is best for people who clicked nothing\n",
    "*arm 2 is best for people who clicked politics\n",
    "*arm 0 is best for people who clicked sports or both"
   ]
  },
  {
   "cell_type": "code",
   "execution_count": 496,
   "metadata": {},
   "outputs": [],
   "source": [
    "# lin_ucb"
   ]
  },
  {
   "cell_type": "code",
   "execution_count": 497,
   "metadata": {},
   "outputs": [
    {
     "data": {
      "text/html": [
       "<div>\n",
       "<style scoped>\n",
       "    .dataframe tbody tr th:only-of-type {\n",
       "        vertical-align: middle;\n",
       "    }\n",
       "\n",
       "    .dataframe tbody tr th {\n",
       "        vertical-align: top;\n",
       "    }\n",
       "\n",
       "    .dataframe thead th {\n",
       "        text-align: right;\n",
       "    }\n",
       "</style>\n",
       "<table border=\"1\" class=\"dataframe\">\n",
       "  <thead>\n",
       "    <tr style=\"text-align: right;\">\n",
       "      <th></th>\n",
       "      <th>clicked_sports</th>\n",
       "      <th>clicked_politics</th>\n",
       "      <th>arm</th>\n",
       "      <th>sports_coef</th>\n",
       "      <th>politics_coef</th>\n",
       "      <th>arm_baseline</th>\n",
       "      <th>base</th>\n",
       "      <th>click_factor</th>\n",
       "      <th>click</th>\n",
       "    </tr>\n",
       "  </thead>\n",
       "  <tbody>\n",
       "    <tr>\n",
       "      <th>0</th>\n",
       "      <td>1</td>\n",
       "      <td>1</td>\n",
       "      <td>0</td>\n",
       "      <td>0.5</td>\n",
       "      <td>0.1</td>\n",
       "      <td>0.1</td>\n",
       "      <td>1</td>\n",
       "      <td>0.7</td>\n",
       "      <td>1</td>\n",
       "    </tr>\n",
       "    <tr>\n",
       "      <th>1</th>\n",
       "      <td>1</td>\n",
       "      <td>0</td>\n",
       "      <td>1</td>\n",
       "      <td>0.1</td>\n",
       "      <td>0.1</td>\n",
       "      <td>0.2</td>\n",
       "      <td>1</td>\n",
       "      <td>0.3</td>\n",
       "      <td>0</td>\n",
       "    </tr>\n",
       "    <tr>\n",
       "      <th>2</th>\n",
       "      <td>1</td>\n",
       "      <td>1</td>\n",
       "      <td>1</td>\n",
       "      <td>0.1</td>\n",
       "      <td>0.1</td>\n",
       "      <td>0.2</td>\n",
       "      <td>1</td>\n",
       "      <td>0.4</td>\n",
       "      <td>0</td>\n",
       "    </tr>\n",
       "    <tr>\n",
       "      <th>3</th>\n",
       "      <td>0</td>\n",
       "      <td>0</td>\n",
       "      <td>2</td>\n",
       "      <td>0.1</td>\n",
       "      <td>0.4</td>\n",
       "      <td>0.1</td>\n",
       "      <td>1</td>\n",
       "      <td>0.1</td>\n",
       "      <td>0</td>\n",
       "    </tr>\n",
       "    <tr>\n",
       "      <th>4</th>\n",
       "      <td>0</td>\n",
       "      <td>1</td>\n",
       "      <td>2</td>\n",
       "      <td>0.1</td>\n",
       "      <td>0.4</td>\n",
       "      <td>0.1</td>\n",
       "      <td>1</td>\n",
       "      <td>0.5</td>\n",
       "      <td>0</td>\n",
       "    </tr>\n",
       "  </tbody>\n",
       "</table>\n",
       "</div>"
      ],
      "text/plain": [
       "   clicked_sports  clicked_politics  arm  sports_coef  politics_coef  \\\n",
       "0               1                 1    0          0.5            0.1   \n",
       "1               1                 0    1          0.1            0.1   \n",
       "2               1                 1    1          0.1            0.1   \n",
       "3               0                 0    2          0.1            0.4   \n",
       "4               0                 1    2          0.1            0.4   \n",
       "\n",
       "   arm_baseline  base  click_factor  click  \n",
       "0           0.1     1           0.7      1  \n",
       "1           0.2     1           0.3      0  \n",
       "2           0.2     1           0.4      0  \n",
       "3           0.1     1           0.1      0  \n",
       "4           0.1     1           0.5      0  "
      ]
     },
     "execution_count": 497,
     "metadata": {},
     "output_type": "execute_result"
    }
   ],
   "source": [
    "bandit_data.head()"
   ]
  },
  {
   "cell_type": "code",
   "execution_count": 498,
   "metadata": {},
   "outputs": [
    {
     "data": {
      "text/plain": [
       "(3, 1)"
      ]
     },
     "execution_count": 498,
     "metadata": {},
     "output_type": "execute_result"
    }
   ],
   "source": [
    "bandit_data.iloc[0][['base','clicked_sports','clicked_politics']].values.reshape(-1,1).shape"
   ]
  },
  {
   "cell_type": "code",
   "execution_count": 499,
   "metadata": {},
   "outputs": [],
   "source": [
    "from sklearn import linear_model"
   ]
  },
  {
   "cell_type": "code",
   "execution_count": 500,
   "metadata": {},
   "outputs": [],
   "source": [
    "class DisjointContextAction:\n",
    "    \"\"\" Contextual action with disjoint linear model.\n",
    "\n",
    "        A contextual action such that the relation between the features and parameters are linear. Assume that the parameters are not\n",
    "        shared accross different actions (Disjoint).\n",
    "\n",
    "    Attributes:\n",
    "        reward              --Value of a reward\n",
    "        dim                 --Number of dimensions in the linear model, including bias\n",
    "        coefficients:       --Vector of coefficients for the linear model\n",
    "        A                   --Updatable matrix of feature data from actions\n",
    "        b                   --Rewards from action usage\n",
    "        __Ainv              --Cached version of the inverse of A\n",
    "    \"\"\"\n",
    "\n",
    "    def __init__(self,  dimension:int):\n",
    "        \"\"\"Instantiate contextual action.\"\"\"\n",
    "        self.dim:int = dimension\n",
    "        #self.reward:float = reward\n",
    "        self.coefficients:np.ndarray = np.zeros((self.dim, 1))\n",
    "        self.A:np.ndarray = np.identity(self.dim)\n",
    "        self.__Ainv:np.ndarray = np.identity(self.dim)\n",
    "        self.b:np.ndarray = np.zeros((self.dim, 1))\n",
    "        self.visits:int = 0\n",
    "    \n",
    "    def get_expected_reward(self, context:np.ndarray) -> float:\n",
    "        \"\"\"Compute expected reward given context.\"\"\"\n",
    "        context_t = context.transpose()\n",
    "        return np.dot(context_t, self.coefficients)\n",
    "    \n",
    "    def compute_regression_coefficient(self):\n",
    "        \"\"\"Cache inverse of A and compute coefficients.\"\"\"\n",
    "        self.__Ainv = np.linalg.inv(self.A)\n",
    "        self.coefficients = np.dot(self.__Ainv, self.b )\n",
    "\n",
    "    def compute_ucb(self, parameter:float, context:np.ndarray) -> float:\n",
    "        \"\"\"Compute the upper confidence bound.\"\"\"\n",
    "        context_t = context.transpose()\n",
    "        p:float = (np.dot(context_t, self.coefficients) + parameter * np.sqrt( np.dot(np.dot(context_t, self.__Ainv), context) ))[0,0]\n",
    "        return p\n",
    "\n",
    "    def update(self, context:np.ndarray, reward):\n",
    "        \"\"\"Update matrix A and vector b, recompute coefficients and cache A inverse.\"\"\"\n",
    "        context_t = context.transpose()\n",
    "        self.A = np.add(self.A, np.dot(context, context_t))\n",
    "       \n",
    "        self.b = self.b + reward*context\n",
    "        self.compute_regression_coefficient()\n",
    "        \n",
    "    def increment_visits(self):\n",
    "        self.visits += 1"
   ]
  },
  {
   "cell_type": "code",
   "execution_count": 532,
   "metadata": {},
   "outputs": [],
   "source": [
    "def simulate(num_samples,dim,num_arms,parameter,bandit_data):\n",
    "    \n",
    "    actions = [DisjointContextAction(dim) for i in range(num_arms)]\n",
    "    arm_choice = np.zeros(num_samples).astype('int')    \n",
    "    clc_sports = []\n",
    "    clc_politics = []\n",
    "    rewards = []\n",
    "    arms = []\n",
    "    norms = [[],[],[]]\n",
    "    regret=[]\n",
    "    for t in range(num_samples):\n",
    "        context = bandit_data.iloc[t]\n",
    "        #[a.compute_regression_coefficient for a in actions]\n",
    "        index = np.argmax([a.compute_ucb(parameter,context[['base','clicked_sports','clicked_politics']].values.reshape(-1,1)) for a in actions])\n",
    "        if context['arm'] == index:\n",
    "            arm_choice[t] = index\n",
    "        else:\n",
    "            arm_choice[t] = t*10\n",
    "            continue\n",
    "        arms.append(arm_choice[t])  \n",
    "        clc_sports.append(context['clicked_sports'])\n",
    "        clc_politics.append(context['clicked_politics'])\n",
    "        rewards.append(context['click'])\n",
    "    \n",
    "        actions[arm_choice[t]].update(context[['base','clicked_sports','clicked_politics']].values.reshape(-1,1),context['click'])\n",
    "        #arm_choice[t] = index\n",
    "        \n",
    "        norms[arm_choice[t]].append(np.linalg.norm(actions[arm_choice[t]].coefficients - context[['arm_baseline','sports_coef','politics_coef']].values.reshape(-1,1),'fro') )\n",
    "        reg = max([a.get_expected_reward(context[['base','clicked_sports','clicked_politics']].values.reshape(-1,1)) for a in actions]) - context['click_factor']\n",
    "        regret.append(reg)\n",
    "        \n",
    "            \n",
    "        \n",
    "    coef = {}\n",
    "    for i in range(len(actions)):\n",
    "        coef[i] = actions[i].coefficients\n",
    "    return arm_choice, coef ,arms,clc_sports,clc_politics,rewards, norms, regret"
   ]
  },
  {
   "cell_type": "code",
   "execution_count": 533,
   "metadata": {},
   "outputs": [],
   "source": [
    "a,b,d, e, f, g, h, i= simulate(n,3,3,7,bandit_data)"
   ]
  },
  {
   "cell_type": "code",
   "execution_count": 534,
   "metadata": {},
   "outputs": [],
   "source": [
    "bib = {'arms': d , 'clc_sports': e, 'clc_pol':f,'rewards':g}"
   ]
  },
  {
   "cell_type": "code",
   "execution_count": 535,
   "metadata": {},
   "outputs": [],
   "source": [
    "df = pd.DataFrame(data=bib)"
   ]
  },
  {
   "cell_type": "code",
   "execution_count": 536,
   "metadata": {},
   "outputs": [],
   "source": [
    "x1 = df[(df['arms']==0) & (df['clc_pol']==1.0) & (df['clc_sports']==1.0)]['rewards'].reset_index().drop('index', axis=1)"
   ]
  },
  {
   "cell_type": "code",
   "execution_count": 537,
   "metadata": {},
   "outputs": [],
   "source": [
    "x2 = df[(df['arms']==1) & (df['clc_pol']==1.0) & (df['clc_sports']==1.0)]['rewards'].reset_index().drop('index', axis=1)"
   ]
  },
  {
   "cell_type": "code",
   "execution_count": 538,
   "metadata": {},
   "outputs": [],
   "source": [
    "x3 = df[(df['arms']==2) & (df['clc_pol']==1.0) & (df['clc_sports']==1.0)]['rewards'].reset_index().drop('index', axis=1)"
   ]
  },
  {
   "cell_type": "code",
   "execution_count": 539,
   "metadata": {},
   "outputs": [
    {
     "data": {
      "image/png": "[encoded data removed]",
      "text/plain": [
       "<matplotlib.figure.Figure at 0x17d05120fd0>"
      ]
     },
     "metadata": {},
     "output_type": "display_data"
    }
   ],
   "source": [
    "import matplotlib.pyplot as plt\n",
    "plt.plot(x1.cumsum().values.reshape(-1,)/(np.arange(len(x1)) + 1), label = 'arm 0')\n",
    "plt.plot(x2.cumsum().values.reshape(-1,)/(np.arange(len(x2)) + 1), label = 'arm 1')\n",
    "plt.plot(x3.cumsum().values.reshape(-1,)/(np.arange(len(x3)) + 1), label = 'arm 2')\n",
    "plt.legend()\n",
    "plt.title('clicked both')\n",
    "plt.show()"
   ]
  },
  {
   "cell_type": "code",
   "execution_count": 540,
   "metadata": {},
   "outputs": [],
   "source": [
    "x1 = df[(df['arms']==0) & (df['clc_pol']==0.0) & (df['clc_sports']==1.0)]['rewards'].reset_index().drop('index', axis=1)"
   ]
  },
  {
   "cell_type": "code",
   "execution_count": 541,
   "metadata": {},
   "outputs": [],
   "source": [
    "x2 = df[(df['arms']==1) & (df['clc_pol']==0.0) & (df['clc_sports']==1.0)]['rewards'].reset_index().drop('index', axis=1)"
   ]
  },
  {
   "cell_type": "code",
   "execution_count": 542,
   "metadata": {},
   "outputs": [],
   "source": [
    "x3 = df[(df['arms']==2) & (df['clc_pol']==0.0) & (df['clc_sports']==1.0)]['rewards'].reset_index().drop('index', axis=1)"
   ]
  },
  {
   "cell_type": "code",
   "execution_count": 543,
   "metadata": {},
   "outputs": [
    {
     "data": {
      "image/png": "[encoded data removed]",
      "text/plain": [
       "<matplotlib.figure.Figure at 0x17d05030dd8>"
      ]
     },
     "metadata": {},
     "output_type": "display_data"
    }
   ],
   "source": [
    "plt.plot(x1.cumsum().values.reshape(-1,)/(np.arange(len(x1)) + 1), label = 'arm 0')\n",
    "plt.plot(x2.cumsum().values.reshape(-1,)/(np.arange(len(x2)) + 1), label = 'arm 1')\n",
    "plt.plot(x3.cumsum().values.reshape(-1,)/(np.arange(len(x3)) + 1), label = 'arm 2')\n",
    "plt.legend()\n",
    "plt.title('clicked sports')\n",
    "plt.show()"
   ]
  },
  {
   "cell_type": "code",
   "execution_count": 544,
   "metadata": {},
   "outputs": [],
   "source": [
    "x1 = df[(df['arms']==0) & (df['clc_pol']==1.0) & (df['clc_sports']==0.0)]['rewards'].reset_index().drop('index', axis=1)"
   ]
  },
  {
   "cell_type": "code",
   "execution_count": 545,
   "metadata": {},
   "outputs": [],
   "source": [
    "x2 = df[(df['arms']==1) & (df['clc_pol']==1.0) & (df['clc_sports']==0.0)]['rewards'].reset_index().drop('index', axis=1)"
   ]
  },
  {
   "cell_type": "code",
   "execution_count": 546,
   "metadata": {},
   "outputs": [],
   "source": [
    "x3 = df[(df['arms']==2) & (df['clc_pol']==1.0) & (df['clc_sports']==0.0)]['rewards'].reset_index().drop('index', axis=1)\n"
   ]
  },
  {
   "cell_type": "code",
   "execution_count": 547,
   "metadata": {},
   "outputs": [
    {
     "data": {
      "text/plain": [
       "Text(0.5,1,'clicked politics')"
      ]
     },
     "execution_count": 547,
     "metadata": {},
     "output_type": "execute_result"
    },
    {
     "data": {
      "image/png": "[encoded data removed]",
      "text/plain": [
       "<matplotlib.figure.Figure at 0x17d05076358>"
      ]
     },
     "metadata": {},
     "output_type": "display_data"
    }
   ],
   "source": [
    "plt.plot(x1.cumsum().values.reshape(-1,)/(np.arange(len(x1)) + 1), label = 'arm 0')\n",
    "plt.plot(x2.cumsum().values.reshape(-1,)/(np.arange(len(x2)) + 1), label = 'arm 1')\n",
    "plt.plot(x3.cumsum().values.reshape(-1,)/(np.arange(len(x3)) + 1), label = 'arm 2')\n",
    "plt.legend()\n",
    "plt.title('clicked politics')"
   ]
  },
  {
   "cell_type": "code",
   "execution_count": 548,
   "metadata": {},
   "outputs": [],
   "source": [
    "def lm_fun(data):\n",
    "    lm = linear_model.LinearRegression()\n",
    "    lm.fit(data[['clicked_sports','clicked_politics']], data['click'])\n",
    "    return lm.coef_"
   ]
  },
  {
   "cell_type": "code",
   "execution_count": 549,
   "metadata": {},
   "outputs": [
    {
     "data": {
      "text/plain": [
       "arm\n",
       "0    [0.48332410781835555, 0.12038239616858282]\n",
       "1        [0.12444124566174, 0.0890345191954807]\n",
       "2    [0.09230903369571583, 0.37384924955984417]\n",
       "dtype: object"
      ]
     },
     "execution_count": 549,
     "metadata": {},
     "output_type": "execute_result"
    }
   ],
   "source": [
    "bandit_data.groupby('arm').apply(lm_fun)"
   ]
  },
  {
   "cell_type": "code",
   "execution_count": 550,
   "metadata": {},
   "outputs": [
    {
     "data": {
      "text/plain": [
       "{0: array([[0.08747276],\n",
       "        [0.48728781],\n",
       "        [0.14798568]]), 1: array([[0.16197777],\n",
       "        [0.15675477],\n",
       "        [0.12558372]]), 2: array([[0.10559837],\n",
       "        [0.10042448],\n",
       "        [0.36060139]])}"
      ]
     },
     "execution_count": 550,
     "metadata": {},
     "output_type": "execute_result"
    }
   ],
   "source": [
    "b"
   ]
  },
  {
   "cell_type": "code",
   "execution_count": 551,
   "metadata": {},
   "outputs": [],
   "source": [
    "x1 = df[(df['arms']==0) & (df['clc_pol']==0.0) & (df['clc_sports']==0.0)]['rewards'].reset_index().drop('index', axis=1)"
   ]
  },
  {
   "cell_type": "code",
   "execution_count": 552,
   "metadata": {},
   "outputs": [],
   "source": [
    "x2 = df[(df['arms']==1) & (df['clc_pol']==0.0) & (df['clc_sports']==0.0)]['rewards'].reset_index().drop('index', axis=1)"
   ]
  },
  {
   "cell_type": "code",
   "execution_count": 553,
   "metadata": {},
   "outputs": [],
   "source": [
    "x3 = df[(df['arms']==2) & (df['clc_pol']==0.0) & (df['clc_sports']==0.0)]['rewards'].reset_index().drop('index', axis=1)"
   ]
  },
  {
   "cell_type": "code",
   "execution_count": 554,
   "metadata": {},
   "outputs": [
    {
     "data": {
      "text/plain": [
       "Text(0.5,1,'clicked nothing')"
      ]
     },
     "execution_count": 554,
     "metadata": {},
     "output_type": "execute_result"
    },
    {
     "data": {
      "image/png": "[encoded data removed]",
      "text/plain": [
       "<matplotlib.figure.Figure at 0x17d05259ac8>"
      ]
     },
     "metadata": {},
     "output_type": "display_data"
    }
   ],
   "source": [
    "plt.plot(x1.cumsum().values.reshape(-1,)/(np.arange(len(x1)) + 1), label = 'arm 0')\n",
    "plt.plot(x2.cumsum().values.reshape(-1,)/(np.arange(len(x2)) + 1), label = 'arm 1')\n",
    "plt.plot(x3.cumsum().values.reshape(-1,)/(np.arange(len(x3)) + 1), label = 'arm 2')\n",
    "plt.legend()\n",
    "plt.title('clicked nothing')"
   ]
  },
  {
   "cell_type": "code",
   "execution_count": 555,
   "metadata": {},
   "outputs": [
    {
     "data": {
      "text/plain": [
       "[<matplotlib.lines.Line2D at 0x17d05334588>]"
      ]
     },
     "execution_count": 555,
     "metadata": {},
     "output_type": "execute_result"
    },
    {
     "data": {
      "image/png": "[encoded data removed]",
      "text/plain": [
       "<matplotlib.figure.Figure at 0x17d05076208>"
      ]
     },
     "metadata": {},
     "output_type": "display_data"
    }
   ],
   "source": [
    "plt.plot(h[2])\n",
    "plt.xlabel('iterations')\n",
    "plt.ylabel('Norm of the difference between real and estimated coefficients')"
   ]
  },
  {
   "cell_type": "code",
   "execution_count": 556,
   "metadata": {},
   "outputs": [
    {
     "data": {
      "text/plain": [
       "[<matplotlib.lines.Line2D at 0x17d03bae7f0>]"
      ]
     },
     "execution_count": 556,
     "metadata": {},
     "output_type": "execute_result"
    },
    {
     "data": {
      "image/png": "[encoded data removed]",
      "text/plain": [
       "<matplotlib.figure.Figure at 0x17d0531b550>"
      ]
     },
     "metadata": {},
     "output_type": "display_data"
    }
   ],
   "source": [
    "plt.plot(np.cumsum(i))"
   ]
  },
  {
   "cell_type": "code",
   "execution_count": 557,
   "metadata": {},
   "outputs": [
    {
     "data": {
      "text/plain": [
       "array([    0,     1,    20, ..., 99970,     0,     2])"
      ]
     },
     "execution_count": 557,
     "metadata": {},
     "output_type": "execute_result"
    }
   ],
   "source": [
    "a"
   ]
  },
  {
   "cell_type": "code",
   "execution_count": 560,
   "metadata": {},
   "outputs": [
    {
     "data": {
      "text/plain": [
       "{0: array([[0.08747276],\n",
       "        [0.48728781],\n",
       "        [0.14798568]]), 1: array([[0.16197777],\n",
       "        [0.15675477],\n",
       "        [0.12558372]]), 2: array([[0.10559837],\n",
       "        [0.10042448],\n",
       "        [0.36060139]])}"
      ]
     },
     "execution_count": 560,
     "metadata": {},
     "output_type": "execute_result"
    }
   ],
   "source": [
    "b"
   ]
  },
  {
   "cell_type": "code",
   "execution_count": 584,
   "metadata": {},
   "outputs": [],
   "source": [
    "df1 = pd.DataFrame(columns = ['arm','term','real coefficients', 'estimated coefficients'])\n",
    "df1['arm'] = [0,0,0,1,1,1,2,2,2]                              \n",
    "df1['term'] = ['baseline','sport','politics','baseline','sport','politics','baseline','sport','politics']  \n",
    "df1['estimated coefficients']   =   [b[0][0,0],b[0][1,0],b[0][2,0],b[1][0,0],b[1][1,0],b[1][2,0],b[2][0,0],b[2][1,0],b[2][2,0]]\n",
    "df1['real coefficients'] = [0.1,0.5,0.1,0.2,0.1,0.1,0.1,0.1,0.4]"
   ]
  },
  {
   "cell_type": "code",
   "execution_count": 585,
   "metadata": {},
   "outputs": [
    {
     "data": {
      "text/html": [
       "<div>\n",
       "<style scoped>\n",
       "    .dataframe tbody tr th:only-of-type {\n",
       "        vertical-align: middle;\n",
       "    }\n",
       "\n",
       "    .dataframe tbody tr th {\n",
       "        vertical-align: top;\n",
       "    }\n",
       "\n",
       "    .dataframe thead th {\n",
       "        text-align: right;\n",
       "    }\n",
       "</style>\n",
       "<table border=\"1\" class=\"dataframe\">\n",
       "  <thead>\n",
       "    <tr style=\"text-align: right;\">\n",
       "      <th></th>\n",
       "      <th>arm</th>\n",
       "      <th>term</th>\n",
       "      <th>real coefficients</th>\n",
       "      <th>estimated coefficients</th>\n",
       "    </tr>\n",
       "  </thead>\n",
       "  <tbody>\n",
       "    <tr>\n",
       "      <th>0</th>\n",
       "      <td>0</td>\n",
       "      <td>baseline</td>\n",
       "      <td>0.1</td>\n",
       "      <td>0.087473</td>\n",
       "    </tr>\n",
       "    <tr>\n",
       "      <th>1</th>\n",
       "      <td>0</td>\n",
       "      <td>sport</td>\n",
       "      <td>0.5</td>\n",
       "      <td>0.487288</td>\n",
       "    </tr>\n",
       "    <tr>\n",
       "      <th>2</th>\n",
       "      <td>0</td>\n",
       "      <td>politics</td>\n",
       "      <td>0.1</td>\n",
       "      <td>0.147986</td>\n",
       "    </tr>\n",
       "    <tr>\n",
       "      <th>3</th>\n",
       "      <td>1</td>\n",
       "      <td>baseline</td>\n",
       "      <td>0.2</td>\n",
       "      <td>0.161978</td>\n",
       "    </tr>\n",
       "    <tr>\n",
       "      <th>4</th>\n",
       "      <td>1</td>\n",
       "      <td>sport</td>\n",
       "      <td>0.1</td>\n",
       "      <td>0.156755</td>\n",
       "    </tr>\n",
       "    <tr>\n",
       "      <th>5</th>\n",
       "      <td>1</td>\n",
       "      <td>politics</td>\n",
       "      <td>0.1</td>\n",
       "      <td>0.125584</td>\n",
       "    </tr>\n",
       "    <tr>\n",
       "      <th>6</th>\n",
       "      <td>2</td>\n",
       "      <td>baseline</td>\n",
       "      <td>0.1</td>\n",
       "      <td>0.105598</td>\n",
       "    </tr>\n",
       "    <tr>\n",
       "      <th>7</th>\n",
       "      <td>2</td>\n",
       "      <td>sport</td>\n",
       "      <td>0.1</td>\n",
       "      <td>0.100424</td>\n",
       "    </tr>\n",
       "    <tr>\n",
       "      <th>8</th>\n",
       "      <td>2</td>\n",
       "      <td>politics</td>\n",
       "      <td>0.4</td>\n",
       "      <td>0.360601</td>\n",
       "    </tr>\n",
       "  </tbody>\n",
       "</table>\n",
       "</div>"
      ],
      "text/plain": [
       "   arm      term  real coefficients  estimated coefficients\n",
       "0    0  baseline                0.1                0.087473\n",
       "1    0     sport                0.5                0.487288\n",
       "2    0  politics                0.1                0.147986\n",
       "3    1  baseline                0.2                0.161978\n",
       "4    1     sport                0.1                0.156755\n",
       "5    1  politics                0.1                0.125584\n",
       "6    2  baseline                0.1                0.105598\n",
       "7    2     sport                0.1                0.100424\n",
       "8    2  politics                0.4                0.360601"
      ]
     },
     "execution_count": 585,
     "metadata": {},
     "output_type": "execute_result"
    }
   ],
   "source": [
    "df1"
   ]
  },
  {
   "cell_type": "code",
   "execution_count": 2,
   "metadata": {},
   "outputs": [],
   "source": [
    "import numpy as np, types, warnings, multiprocessing\n",
    "from copy import deepcopy\n",
    "#from joblib import Parallel, delayed\n",
    "import pandas as pd"
   ]
  },
  {
   "cell_type": "code",
   "execution_count": null,
   "metadata": {},
   "outputs": [],
   "source": []
  }
 ],
 "metadata": {
  "kernelspec": {
   "display_name": "Python 3",
   "language": "python",
   "name": "python3"
  },
  "language_info": {
   "codemirror_mode": {
    "name": "ipython",
    "version": 3
   },
   "file_extension": ".py",
   "mimetype": "text/x-python",
   "name": "python",
   "nbconvert_exporter": "python",
   "pygments_lexer": "ipython3",
   "version": "3.6.8"
  }
 },
 "nbformat": 4,
 "nbformat_minor": 2
}
